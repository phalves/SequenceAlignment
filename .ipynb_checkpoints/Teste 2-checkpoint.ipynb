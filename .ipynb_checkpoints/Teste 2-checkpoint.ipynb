{
 "cells": [
  {
   "cell_type": "code",
   "execution_count": 82,
   "metadata": {
    "collapsed": false
   },
   "outputs": [
    {
     "name": "stdout",
     "output_type": "stream",
     "text": [
      "[[0.0, 0.7, 1.4], [0.7, 0.0, 0.7], [1.4, 0.7, 0.0]]\n",
      "Cost: 0.000\n",
      "Diff:\n",
      "BA\n",
      "BA\n"
     ]
    }
   ],
   "source": [
    "from edit_distance import sequence_alignemt\n",
    "from edit_distance import get_sequence\n",
    "\n",
    "# x = \"ABAA\"\n",
    "# y = \"AAC\"\n",
    "x = \"dfHJJLLL\"\n",
    "y = \"f\"\n",
    "# x = \"AB\"\n",
    "# y = \"CD\"\n",
    "# x = \"CDF\"\n",
    "x = \"BA\"\n",
    "y = \"BA\"\n",
    "# y = \"CDF\"\n",
    "# x = \"CDF\"\n",
    "# y = \"F\"\n",
    "g = 0.7\n",
    "a = 1\n",
    "\n",
    "M, cost = sequence_alignemt(x, y, g, a)\n",
    "print M\n",
    "out_x, out_y = get_sequence(x, y, g, a, M)\n",
    "print \"Cost: %.3f\\nDiff:\\n%s\\n%s\" % (cost, out_x, out_y)"
   ]
  },
  {
   "cell_type": "code",
   "execution_count": 83,
   "metadata": {
    "collapsed": true
   },
   "outputs": [],
   "source": [
    "from copy import deepcopy\n",
    "\n",
    "def linear_sequence_alignment(x, y, g, a):\n",
    "    \"\"\" Determines optimal sequence alignment for two strings (x and y) with\\\n",
    "        linear space.\n",
    "            Args:\n",
    "                x   - First string\n",
    "                y   - Second string\n",
    "                g   - Gap penalty\n",
    "                a   - Mismatch penalty\n",
    "    \"\"\"\n",
    "#     print \"input:\", x, y\n",
    "    _x = \"*%s\" % x\n",
    "    _y = \"*%s\" % y\n",
    "    m = len(_x)  # Number of characters in x\n",
    "    n = len(_y)  # Number of characters in y\n",
    "    CURRENT = [i * g for i in range(m)]\n",
    "\n",
    "    for j in range(1, n):\n",
    "        LAST = deepcopy(CURRENT)\n",
    "        CURRENT[0] = j * g\n",
    "        for i in range(1, m):\n",
    "            _a = 0 if (_x[i] == _y[j]) else a\n",
    "            CURRENT[i] = min(_a + LAST[i - 1], g + LAST[i], g + CURRENT[i - 1])\n",
    "    return CURRENT, CURRENT[m - 1]"
   ]
  },
  {
   "cell_type": "code",
   "execution_count": 84,
   "metadata": {
    "collapsed": false
   },
   "outputs": [],
   "source": [
    "def divide_and_conquer_alignment(x, y, g, a):\n",
    "    m = len(x)\n",
    "    n = len(y)\n",
    "\n",
    "    if m >= 0 and n >= 0:\n",
    "        if m <= 2 or n <= 2:\n",
    "            v, c = linear_sequence_alignment(x, y, g, a)\n",
    "            print v\n",
    "            print \"c\", c\n",
    "            if c == 0:\n",
    "                print \"x: %s\\ny: %s\" % (x, y)\n",
    "                return\n",
    "            elif ( c >= 2 and c%int(c) == 0):\n",
    "                print \"x: <%s>\\ny: <%s>\" % (x, y)\n",
    "                return\n",
    "            q = v[::-1].index(c) # recuperar o indice de c\n",
    "            try:\n",
    "                if x[q] == y[n/2]:\n",
    "                    print \"x: %s\\ny: %s\" % (x[q], y[n/2])\n",
    "                else:\n",
    "                    print \"x: <%s>\\ny: <%s>\" % (x[q], y[n/2])\n",
    "            except:\n",
    "                try:\n",
    "                    print \"x: %s\" % x[q]\n",
    "                except:\n",
    "                    print \"x: *\"\n",
    "                try:\n",
    "                    print \"y: %s\" % y[n/2]\n",
    "                except:\n",
    "                    print \"y: *\"\n",
    "            divide_and_conquer_alignment(x[:q], y[:(n / 2)], g, a)\n",
    "            divide_and_conquer_alignment(x[q + 1:], y[(n / 2) + 1:], g, a)\n",
    "        else:\n",
    "            _f, _ = linear_sequence_alignment(x, y[:int(n/2)], g, a)\n",
    "            _g, _ = linear_sequence_alignment(x[::-1], y[int(n/2):][::-1], g, a)\n",
    "            r = [_f[i] + _g[i] for i in range(len(_f))]\n",
    "            print r\n",
    "            q = r.index(min(r))\n",
    "            divide_and_conquer_alignment(x[:(q)], y[:n/2], g, a)\n",
    "            divide_and_conquer_alignment(x[q:], y[n / 2:], g, a)"
   ]
  },
  {
   "cell_type": "code",
   "execution_count": 85,
   "metadata": {
    "collapsed": true
   },
   "outputs": [],
   "source": [
    "def find_sequence(i, j, x, y, g, a, M, diff):\n",
    "    if i > 0 or j > 0:\n",
    "        _a = a\n",
    "        try:\n",
    "            _a = 0 if x[i] == y[j] else a\n",
    "        except:\n",
    "            pass\n",
    "        if M[i+1][j+1] == _a + M[i][j]:\n",
    "            if _a == a:\n",
    "                _add_to_diff(diff, \"<%s>\" % x[i], \"<%s>\" % y[j])\n",
    "            else:\n",
    "                _add_to_diff(diff, x[i], y[j])\n",
    "            return find_sequence(i - 1, j - 1, x, y, g, a, M, diff)\n",
    "        elif M[i + 1][j + 1] == g + M[i][j + 1]:\n",
    "            _add_to_diff(diff, x[i], \"*\")\n",
    "            return find_sequence(i - 1, j, x, y, g, a, M, diff)\n",
    "        else:\n",
    "            _add_to_diff(diff, \"*\", y[j])\n",
    "            return find_sequence(i, j - 1, x, y, g, a, M, diff)\n",
    "    elif j == 0 and i == 0:\n",
    "        _add_to_diff(diff, x[i], y[j])"
   ]
  },
  {
   "cell_type": "code",
   "execution_count": 1,
   "metadata": {
    "collapsed": false
   },
   "outputs": [],
   "source": [
    "from math import ceil\n",
    "from edit_distance import sequence_alignemt\n",
    "from edit_distance import get_sequence, linear_sequence_alignment\n",
    "\n",
    "def divide_and_conquer_alignment_1(x, y, g, a):\n",
    "    m = len(x)\n",
    "    n = len(y)\n",
    "\n",
    "    if m >= 0 and n >= 0:\n",
    "        if m <= 2 or n <= 2:\n",
    "            print optmal_alignment(x, y, g, a)\n",
    "        else:\n",
    "            _f, _ = linear_sequence_alignment(x, y[:int(n/2)], g, a)\n",
    "            _g, _ = linear_sequence_alignment(x[::-1], y[int(n/2):][::-1], g, a)\n",
    "            r = [_f[i] + _g[i] for i in range(len(_f))]\n",
    "            print r\n",
    "            q = r.index(min(r))\n",
    "            n = len(r)\n",
    "            print \"q\", q\n",
    "            print \"xq\", x[q]\n",
    "            print \">-\", x[:q+1], y[:n/2]\n",
    "            divide_and_conquer_alignment_1(x[:q+1], y[:int(ceil(n / 2.0))], g, a)\n",
    "            print \">--\", x[q+1:], y[n / 2:]\n",
    "            divide_and_conquer_alignment_1(x[q+1:], y[int(ceil(n / 2.0)):], g, a)\n",
    "\n",
    "\n",
    "def optmal_alignment(x, y, g, a):\n",
    "    m, cost = sequence_alignemt(x, y, g, a)\n",
    "    return get_sequence(x, y, g, a, m)"
   ]
  },
  {
   "cell_type": "code",
   "execution_count": 3,
   "metadata": {
    "collapsed": false
   },
   "outputs": [
    {
     "name": "stdout",
     "output_type": "stream",
     "text": [
      "Cost: 0.0000\n",
      "[3.4999999999999996, 2.0999999999999996, 0.7, 0.7, 2.0999999999999996, 3.4999999999999996]\n",
      "q 2\n",
      "xq B\n",
      ">- ACB ACB\n",
      "[2.0999999999999996, 0.7, 0.7, 2.0999999999999996]\n",
      "q 1\n",
      "xq C\n",
      ">- AC AC\n",
      "x: AC, y: AC \n",
      "('AC', 'AC')\n",
      ">-- B B\n",
      "x: , y: B \n",
      "('', '')\n",
      ">-- DE DE\n",
      "x: , y: DE \n",
      "('*', 'D')\n"
     ]
    }
   ],
   "source": [
    "x = \"ACBDE\"\n",
    "y = \"ACBDE\"\n",
    "# x = \"QW\"\n",
    "# y = \"AABA\"\n",
    "g = 0.7\n",
    "a = 1\n",
    "\n",
    "M, cost = linear_sequence_alignment(x, y, g, a)\n",
    "print \"Cost: %.3f0\" % cost\n",
    "# print optmal_alignment(x, y, g, a)\n",
    "divide_and_conquer_alignment_1(x, y, g, a)"
   ]
  },
  {
   "cell_type": "code",
   "execution_count": 88,
   "metadata": {
    "collapsed": false
   },
   "outputs": [
    {
     "data": {
      "text/plain": [
       "3.0"
      ]
     },
     "execution_count": 88,
     "metadata": {},
     "output_type": "execute_result"
    }
   ],
   "source": [
    "ceil(5/2.0)"
   ]
  },
  {
   "cell_type": "code",
   "execution_count": null,
   "metadata": {
    "collapsed": true
   },
   "outputs": [],
   "source": []
  }
 ],
 "metadata": {
  "kernelspec": {
   "display_name": "Python 2",
   "language": "python",
   "name": "python2"
  },
  "language_info": {
   "codemirror_mode": {
    "name": "ipython",
    "version": 2
   },
   "file_extension": ".py",
   "mimetype": "text/x-python",
   "name": "python",
   "nbconvert_exporter": "python",
   "pygments_lexer": "ipython2",
   "version": "2.7.9"
  }
 },
 "nbformat": 4,
 "nbformat_minor": 0
}
