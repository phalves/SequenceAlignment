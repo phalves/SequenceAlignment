{
 "cells": [
  {
   "cell_type": "code",
   "execution_count": 1,
   "metadata": {
    "collapsed": false
   },
   "outputs": [
    {
     "name": "stdout",
     "output_type": "stream",
     "text": [
      "Populating the interactive namespace from numpy and matplotlib\n"
     ]
    }
   ],
   "source": [
    "%pylab inline"
   ]
  },
  {
   "cell_type": "code",
   "execution_count": 2,
   "metadata": {
    "collapsed": false
   },
   "outputs": [],
   "source": [
    "import sys\n",
    "sys.setrecursionlimit(200000)\n",
    "\n",
    "\n",
    "def sequence_alignemt(x, y, g, a):\n",
    "    m = len(x)\n",
    "    n = len(y)\n",
    "    M = [[0 for i in range(n)] for j in range(m)]\n",
    "    for i in range(m):\n",
    "        M[i][0] = i*g\n",
    "    for j in range(n):\n",
    "        M[0][j] = j*g\n",
    "\n",
    "    for i in range(1, m):\n",
    "          for j in range(1, n):\n",
    "              _a = 0 if x[i] == y[j] else a\n",
    "              M[i][j] = min(_a + M[i - 1][j - 1], g + M[i - 1][j], g + M[i][j - 1])\n",
    "    return M, M[m-1][n-1]\n",
    "\n",
    "\n",
    "def get_sequence(x, y, g, a, M):\n",
    "    diff = [[],[]]\n",
    "    find_sequence(len(x) - 1, len(y) - 1, x, y, g, a, M, diff)\n",
    "    diff[0].reverse()\n",
    "    diff[1].reverse()\n",
    "    return \"\".join(diff[0]), \"\".join(diff[1])\n",
    "\n",
    "\n",
    "def find_sequence(i, j, x, y, g, a, M, diff):\n",
    "    if i > 0 or j > 0:\n",
    "        _a = 0 if x[i] == y[j] else a\n",
    "        if M[i][j] == _a + M[i - 1][j - 1]:\n",
    "            if _a == a:\n",
    "                _add_to_diff(diff, \"<%s>\" % x[i], \"<%s>\" % y[j])\n",
    "            _add_to_diff(diff, x[i], y[j])\n",
    "            return find_sequence(i - 1, j - 1, x, y, g, a, M, diff)\n",
    "        elif M[i][j] == g + M[i - 1][j]:\n",
    "            _add_to_diff(diff, x[i], \"*\")\n",
    "            return find_sequence(i - 1, j, x, y, g, a, M, diff)\n",
    "        else:\n",
    "            _add_to_diff(diff, \"*\", y[j])\n",
    "            return find_sequence(i, j - 1, x, y, g, a, M, diff)\n",
    "    elif j == 0 and i == 0:\n",
    "        _add_to_diff(diff, x[i], y[j])\n",
    "\n",
    "\n",
    "def _add_to_diff(diff, x, y):\n",
    "    diff[0].append(x)\n",
    "    diff[1].append(y)"
   ]
  },
  {
   "cell_type": "code",
   "execution_count": 3,
   "metadata": {
    "collapsed": false
   },
   "outputs": [
    {
     "name": "stdout",
     "output_type": "stream",
     "text": [
      "Cost:  1.7\n",
      "o*curra<a>nce\n",
      "occurre<e>nce\n"
     ]
    }
   ],
   "source": [
    "x = \"ocurrance\"\n",
    "y = \"occurrence\"\n",
    "g = 0.7\n",
    "a = 1\n",
    "\n",
    "M, cost = sequence_alignemt(x, y, g, a)\n",
    "print \"Cost: \", cost\n",
    "out_x, out_y = get_sequence(x, y, g, a, M)\n",
    "\n",
    "print out_x\n",
    "print out_y"
   ]
  },
  {
   "cell_type": "markdown",
   "metadata": {},
   "source": [
    "____\n",
    "###Algoritmo - Task 2"
   ]
  },
  {
   "cell_type": "code",
   "execution_count": 9,
   "metadata": {
    "collapsed": false
   },
   "outputs": [],
   "source": [
    "import random\n",
    "import numpy as np\n",
    "import time\n",
    "from math import log\n",
    "import matplotlib.pyplot as plt\n",
    "\n",
    "z = \"ABCD\"\n",
    "gamma = 0.7\n",
    "alpha = 1\n",
    "\n",
    "def task2():\n",
    "    result = []\n",
    "    for i in range(8):\n",
    "        t = []\n",
    "        size = 10*pow(2, i)\n",
    "        for j in range(10):\n",
    "            start = time.clock()\n",
    "            x = [random.choice(z) for _ in range(size)]\n",
    "            y = [random.choice(z) for _ in range(size)]\n",
    "            M, cost = sequence_alignemt(x, y, g, a)\n",
    "            out_x, out_y = get_sequence(x, y, g, a, M)\n",
    "            t.append((time.clock() - start)/60)\n",
    "\n",
    "        # Calculates the median time\n",
    "        print [np.median(t), size]\n",
    "        result.append([np.median(t), size])\n",
    "    return result"
   ]
  },
  {
   "cell_type": "code",
   "execution_count": 10,
   "metadata": {
    "collapsed": false
   },
   "outputs": [
    {
     "name": "stdout",
     "output_type": "stream",
     "text": [
      "[7.5500000000006121e-06, 10]\n",
      "[1.5149999999997112e-05, 20]\n",
      "[8.3250000000001373e-05, 40]\n",
      "[0.00013928333333333248, 80]\n",
      "[0.00037476666666666676, 160]\n",
      "[0.0020455666666666684, 320]\n",
      "[0.0067109833333333386, 640]\n",
      "[0.02601569166666667, 1280]\n"
     ]
    },
    {
     "data": {
      "image/png": "[encoded data removed]",
      "text/plain": [
       "<matplotlib.figure.Figure at 0x106796650>"
      ]
     },
     "metadata": {},
     "output_type": "display_data"
    }
   ],
   "source": [
    "result = task2()\n",
    "plt.plot(result,'b-')\n",
    "plt.xlabel(u\"Tempo médio\")\n",
    "plt.ylabel(u\"Tamanho das cadeias\")\n",
    "plt.show()"
   ]
  },
  {
   "cell_type": "markdown",
   "metadata": {
    "collapsed": true
   },
   "source": [
    "Linear Space"
   ]
  },
  {
   "cell_type": "code",
   "execution_count": 6,
   "metadata": {
    "collapsed": true
   },
   "outputs": [],
   "source": [
    "from copy import deepcopy\n",
    "import sys\n",
    "sys.setrecursionlimit(200000)\n",
    "\n",
    "\n",
    "def sequence_alignemt_linear(x, y, g, a):\n",
    "    m = len(x)\n",
    "    n = len(y)\n",
    "    C = [i*g for i in range(m)]\n",
    "\n",
    "#     Não é necessário, C já foi inicializado\n",
    "#     for i in range(m):\n",
    "#         C[i] = i*g\n",
    "\n",
    "    for j in range(1, n):\n",
    "#         L = C, isso na verdade está apenas atribuindo a L uma cópia\n",
    "#         da referência ao vetor C e não copiando o vetor em si.\n",
    "#         Em python, quando vc quer copia vetores, é melhor utilizar o deepcopy.\n",
    "        L = deepcopy(C)\n",
    "        C[0]=j*g\n",
    "        for i in range(1, m):\n",
    "            _a = 0 if x[i] == y[j] else a\n",
    "            C[i] = min(_a + L[i - 1], g + L[i], g + C[i - 1])\n",
    "    return C, C[m-1]"
   ]
  },
  {
   "cell_type": "code",
   "execution_count": 7,
   "metadata": {
    "collapsed": false
   },
   "outputs": [
    {
     "name": "stdout",
     "output_type": "stream",
     "text": [
      "Cost:  1.7\n"
     ]
    }
   ],
   "source": [
    "x = \"ocurrance\"\n",
    "y = \"occurrence\"\n",
    "g = 0.7\n",
    "a = 1\n",
    "\n",
    "M, cost = sequence_alignemt_linear(x, y, g, a)\n",
    "print \"Cost: \", cost"
   ]
  },
  {
   "cell_type": "code",
   "execution_count": 8,
   "metadata": {
    "collapsed": false
   },
   "outputs": [
    {
     "data": {
      "text/plain": [
       "200000"
      ]
     },
     "execution_count": 8,
     "metadata": {},
     "output_type": "execute_result"
    }
   ],
   "source": [
    "import sys\n",
    "sys.getrecursionlimit()"
   ]
  },
  {
   "cell_type": "code",
   "execution_count": null,
   "metadata": {
    "collapsed": true
   },
   "outputs": [],
   "source": []
  }
 ],
 "metadata": {
  "kernelspec": {
   "display_name": "Python 2",
   "language": "python",
   "name": "python2"
  },
  "language_info": {
   "codemirror_mode": {
    "name": "ipython",
    "version": 2
   },
   "file_extension": ".py",
   "mimetype": "text/x-python",
   "name": "python",
   "nbconvert_exporter": "python",
   "pygments_lexer": "ipython2",
   "version": "2.7.9"
  }
 },
 "nbformat": 4,
 "nbformat_minor": 0
}
